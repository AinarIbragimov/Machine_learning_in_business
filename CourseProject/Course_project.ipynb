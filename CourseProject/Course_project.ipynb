{
 "cells": [
  {
   "cell_type": "markdown",
   "metadata": {},
   "source": [
    "Цель данной работы - при помощи комментария, отзыва или любого другого текста, написанного пользователем, определять социотип по типологии Майерс-Бриггс. Это поможет лучше понимать пользователей и возможно поможет как дополнительный признак настроить рекомендательную систему."
   ]
  },
  {
   "cell_type": "markdown",
   "metadata": {},
   "source": [
    "Источник  https://habr.com/ru/company/surfingbird/blog/230103/\n",
    "\n",
    "kaggle https://www.kaggle.com/datasnaek/mbti-type?select=mbti_1.csv"
   ]
  },
  {
   "cell_type": "code",
   "execution_count": 70,
   "metadata": {
    "scrolled": true
   },
   "outputs": [
    {
     "name": "stdout",
     "output_type": "stream",
     "text": [
      "(8675, 2)\n"
     ]
    },
    {
     "data": {
      "text/plain": [
       "\"'http://www.youtube.com/watch?v=qsXHcwe3krw|||http://41.media.tumblr.com/tumblr_lfouy03PMA1qa1rooo1_500.jpg|||enfp and intj moments  https://www.youtube.com/watch?v=iz7lE1g4XM4  sportscenter not top ten plays  https://www.youtube.com/watch?v=uCdfze1etec  pranks|||What has been the most life-changing experience in your life?|||http://www.youtube.com/watch?v=vXZeYwwRDw8   http://www.youtube.com/watch?v=u8ejam5DP3E  On repeat for most of today.|||May the PerC Experience immerse you.|||The last thing my INFJ friend posted on his facebook before committing suicide the next day. Rest in peace~   http://vimeo.com/22842206|||Hello ENFJ7. Sorry to hear of your distress. It's only natural for a relationship to not be perfection all the time in every moment of existence. Try to figure the hard times as times of growth, as...|||84389  84390  http://wallpaperpassion.com/upload/23700/friendship-boy-and-girl-wallpaper.jpg  http://assets.dornob.com/wp-content/uploads/2010/04/round-home-design.jpg ...|||Welcome and stuff.|||http://playeressence.com/wp-content/uploads/2013/08/RED-red-the-pokemon-master-32560474-450-338.jpg  Game. Set. Match.|||Prozac, wellbrutin, at least thirty minutes of moving your legs (and I don't mean moving them while sitting in your same desk chair), weed in moderation (maybe try edibles as a healthier alternative...|||Basically come up with three items you've determined that each type (or whichever types you want to do) would more than likely use, given each types' cognitive functions and whatnot, when left by...|||All things in moderation.  Sims is indeed a video game, and a good one at that. Note: a good one at that is somewhat subjective in that I am not completely promoting the death of any given Sim...|||Dear ENFP:  What were your favorite video games growing up and what are your now, current favorite video games? :cool:|||https://www.youtube.com/watch?v=QyPqT8umzmY|||It appears to be too late. :sad:|||There's someone out there for everyone.|||Wait... I thought confidence was a good thing.|||I just cherish the time of solitude b/c i revel within my inner world more whereas most other time i'd be workin... just enjoy the me time while you can. Don't worry, people will always be around to...|||Yo entp ladies... if you're into a complimentary personality,well, hey.|||... when your main social outlet is xbox live conversations and even then you verbally fatigue quickly.|||http://www.youtube.com/watch?v=gDhy7rdfm14  I really dig the part from 1:46 to 2:50|||http://www.youtube.com/watch?v=msqXffgh7b8|||Banned because this thread requires it of me.|||Get high in backyard, roast and eat marshmellows in backyard while conversing over something intellectual, followed by massages and kisses.|||http://www.youtube.com/watch?v=Mw7eoU3BMbE|||http://www.youtube.com/watch?v=4V2uYORhQOk|||http://www.youtube.com/watch?v=SlVmgFQQ0TI|||Banned for too many b's in that sentence. How could you! Think of the B!|||Banned for watching movies in the corner with the dunces.|||Banned because Health class clearly taught you nothing about peer pressure.|||Banned for a whole host of reasons!|||http://www.youtube.com/watch?v=IRcrv41hgz4|||1) Two baby deer on left and right munching on a beetle in the middle.  2) Using their own blood, two cavemen diary today's latest happenings on their designated cave diary wall.  3) I see it as...|||a pokemon world  an infj society  everyone becomes an optimist|||49142|||http://www.youtube.com/watch?v=ZRCEq_JFeFM|||http://discovermagazine.com/2012/jul-aug/20-things-you-didnt-know-about-deserts/desert.jpg|||http://oyster.ignimgs.com/mediawiki/apis.ign.com/pokemon-silver-version/d/dd/Ditto.gif|||http://www.serebii.net/potw-dp/Scizor.jpg|||Not all artists are artists because they draw. It's the idea that counts in forming something of your own... like a signature.|||Welcome to the robot ranks, person who downed my self-esteem cuz I'm not an avid signature artist like herself. :proud:|||Banned for taking all the room under my bed. Ya gotta learn to share with the roaches.|||http://www.youtube.com/watch?v=w8IgImn57aQ|||Banned for being too much of a thundering, grumbling kind of storm... yep.|||Ahh... old high school music I haven't heard in ages.   http://www.youtube.com/watch?v=dcCRUPCdB1w|||I failed a public speaking class a few years ago and I've sort of learned what I could do better were I to be in that position again. A big part of my failure was just overloading myself with too...|||I like this person's mentality. He's a confirmed INTJ by the way. http://www.youtube.com/watch?v=hGKLI-GEc6M|||Move to the Denver area and start a new life for myself.'\""
      ]
     },
     "execution_count": 70,
     "metadata": {},
     "output_type": "execute_result"
    }
   ],
   "source": [
    "import pandas as pd\n",
    "\n",
    "import numpy as np\n",
    "from sklearn.pipeline import Pipeline, make_pipeline\n",
    "from sklearn.base import BaseEstimator, TransformerMixin\n",
    "from sklearn.linear_model import LogisticRegression\n",
    "from sklearn.model_selection import train_test_split\n",
    "from sklearn.feature_extraction.text import TfidfVectorizer\n",
    "import itertools\n",
    "\n",
    "\n",
    "comments = pd.read_csv(\"mbti_1.csv\")\n",
    "print(comments.shape)\n",
    "comments['posts'][0]"
   ]
  },
  {
   "cell_type": "markdown",
   "metadata": {},
   "source": [
    "Как мы видим в постах много ссылок, лишних знаков, данные не очень чистые"
   ]
  },
  {
   "cell_type": "code",
   "execution_count": 71,
   "metadata": {
    "scrolled": true
   },
   "outputs": [
    {
     "data": {
      "text/html": [
       "<div>\n",
       "<style scoped>\n",
       "    .dataframe tbody tr th:only-of-type {\n",
       "        vertical-align: middle;\n",
       "    }\n",
       "\n",
       "    .dataframe tbody tr th {\n",
       "        vertical-align: top;\n",
       "    }\n",
       "\n",
       "    .dataframe thead th {\n",
       "        text-align: right;\n",
       "    }\n",
       "</style>\n",
       "<table border=\"1\" class=\"dataframe\">\n",
       "  <thead>\n",
       "    <tr style=\"text-align: right;\">\n",
       "      <th></th>\n",
       "      <th>type</th>\n",
       "      <th>posts</th>\n",
       "    </tr>\n",
       "  </thead>\n",
       "  <tbody>\n",
       "    <tr>\n",
       "      <th>0</th>\n",
       "      <td>INFJ</td>\n",
       "      <td>'http://www.youtube.com/watch?v=qsXHcwe3krw|||...</td>\n",
       "    </tr>\n",
       "    <tr>\n",
       "      <th>1</th>\n",
       "      <td>ENTP</td>\n",
       "      <td>'I'm finding the lack of me in these posts ver...</td>\n",
       "    </tr>\n",
       "    <tr>\n",
       "      <th>2</th>\n",
       "      <td>INTP</td>\n",
       "      <td>'Good one  _____   https://www.youtube.com/wat...</td>\n",
       "    </tr>\n",
       "  </tbody>\n",
       "</table>\n",
       "</div>"
      ],
      "text/plain": [
       "   type                                              posts\n",
       "0  INFJ  'http://www.youtube.com/watch?v=qsXHcwe3krw|||...\n",
       "1  ENTP  'I'm finding the lack of me in these posts ver...\n",
       "2  INTP  'Good one  _____   https://www.youtube.com/wat..."
      ]
     },
     "execution_count": 71,
     "metadata": {},
     "output_type": "execute_result"
    }
   ],
   "source": [
    "comments.head(3)"
   ]
  },
  {
   "cell_type": "code",
   "execution_count": 72,
   "metadata": {},
   "outputs": [],
   "source": [
    "# !pip install razdel\n",
    "# !pip install pymorphy2"
   ]
  },
  {
   "cell_type": "code",
   "execution_count": 73,
   "metadata": {},
   "outputs": [],
   "source": [
    "#from gensim.test.utils import common_texts\n",
    "#from gensim.corpora.dictionary import Dictionary\n",
    "\n",
    "#предобработка текстов\n",
    "import re\n",
    "import numpy as np\n",
    "from nltk.corpus import stopwords\n",
    "#from nltk.tokenize import word_tokenize\n",
    "\n",
    "from razdel import tokenize # https://github.com/natasha/razdel\n",
    "#!pip install razdel\n",
    "\n",
    "import pymorphy2  # pip install pymorphy2"
   ]
  },
  {
   "cell_type": "code",
   "execution_count": 74,
   "metadata": {},
   "outputs": [
    {
     "name": "stdout",
     "output_type": "stream",
     "text": [
      "179\n"
     ]
    }
   ],
   "source": [
    "stopword_eng = stopwords.words('english')\n",
    "print(len(stopword_eng))\n",
    "\n",
    "morph = pymorphy2.MorphAnalyzer()"
   ]
  },
  {
   "cell_type": "markdown",
   "metadata": {},
   "source": [
    "Дополнительно скачала стоп слова из свободных источников"
   ]
  },
  {
   "cell_type": "code",
   "execution_count": 75,
   "metadata": {},
   "outputs": [
    {
     "data": {
      "text/plain": [
       "179"
      ]
     },
     "execution_count": 75,
     "metadata": {},
     "output_type": "execute_result"
    }
   ],
   "source": [
    "with open('stop_words_english.txt') as f:\n",
    "    additional_stopwords = [w.strip() for w in f.readlines() if w]\n",
    "stopword_eng += additional_stopwords\n",
    "len(stopword_eng)"
   ]
  },
  {
   "cell_type": "markdown",
   "metadata": {},
   "source": [
    "Также убрал сами названия типов из текста"
   ]
  },
  {
   "cell_type": "code",
   "execution_count": 76,
   "metadata": {},
   "outputs": [],
   "source": [
    "list_of_types = ['ENFJ', 'ENFP', 'ENTJ', 'ENTP', 'ESFJ', 'ESFP', 'ESTJ', 'ESTP', 'INFJ', 'INFP', 'INTJ', 'INTP', 'ISFJ', 'ISFP', 'ISTJ', 'ISTP']\n",
    "for type in list_of_types:\n",
    "    stopword_eng.append(type.lower())"
   ]
  },
  {
   "cell_type": "code",
   "execution_count": 77,
   "metadata": {},
   "outputs": [
    {
     "data": {
      "text/plain": [
       "195"
      ]
     },
     "execution_count": 77,
     "metadata": {},
     "output_type": "execute_result"
    }
   ],
   "source": [
    "len(stopword_eng)"
   ]
  },
  {
   "cell_type": "raw",
   "metadata": {},
   "source": [
    "Теперь сохраним эти слова в отдельный файл"
   ]
  },
  {
   "cell_type": "code",
   "execution_count": 78,
   "metadata": {},
   "outputs": [],
   "source": [
    "f_1 = open(\"final_stop_words.txt\", 'a', encoding=\"utf-8\")\n",
    "f_1.write(stopword_eng[0])\n",
    "for word in stopword_eng[1:]:\n",
    "    f_1.write('\\n')\n",
    "    f_1.write(word)\n",
    "f_1.close()"
   ]
  },
  {
   "cell_type": "code",
   "execution_count": 79,
   "metadata": {},
   "outputs": [],
   "source": [
    "def clean_text(text):\n",
    "    '''\n",
    "    очистка текста\n",
    "    \n",
    "    на выходе очищеный текст\n",
    "    \n",
    "    '''\n",
    "    if not isinstance(text, str):\n",
    "        text = str(text)\n",
    "    \n",
    "    text = text.lower()\n",
    "    text = text.strip('\\n').strip('\\r').strip('\\t')\n",
    "    text = re.sub(\"-\\s\\r\\n\\|-\\s\\r\\n|\\r\\n\", '', str(text))\n",
    "    text = re.sub(\"\\|\", ' ', str(text))\n",
    "    text = re.sub(\"https?:\\/\\/\\S+\", '', str(text))\n",
    "    text = re.sub(\"[0-9]|[-—.,:;_%©«»?*!@#№$^•·&()]|[+=]|[[]|[]]|[/]|\", '', text)\n",
    "    text = re.sub(r\"\\r\\n\\t|\\n|\\\\s|\\r\\t|\\\\n\", ' ', text)\n",
    "    text = re.sub(r'[\\xad]|[\\s+]', ' ', text.strip())\n",
    "    \n",
    "    #tokens = list(tokenize(text))\n",
    "    #words = [_.text for _ in tokens]\n",
    "    #words = [w for w in words if w not in stopword_ru]\n",
    "    \n",
    "    #return \" \".join(words)\n",
    "    return text\n",
    "\n",
    "cache = {}\n",
    "\n",
    "def lemmatization(text):\n",
    "    '''\n",
    "    лемматизация\n",
    "        [0] если зашел тип не `str` делаем его `str`\n",
    "        [1] токенизация предложения через razdel\n",
    "        [2] проверка есть ли в начале слова '-'\n",
    "        [3] проверка токена с одного символа\n",
    "        [4] проверка есть ли данное слово в кэше\n",
    "        [5] лемматизация слова\n",
    "        [6] проверка на стоп-слова\n",
    "\n",
    "    на выходе лист отлемматизированых токенов\n",
    "    '''\n",
    "\n",
    "    # [0]\n",
    "    if not isinstance(text, str):\n",
    "        text = str(text)\n",
    "    \n",
    "    # [1]\n",
    "    tokens = list(tokenize(text))\n",
    "    words = [_.text for _ in tokens]\n",
    "\n",
    "    words_lem = []\n",
    "    for w in words:\n",
    "        if w[0] == '-': # [2]\n",
    "            w = w[1:]\n",
    "        if len(w)>1: # [3]\n",
    "            if w in cache: # [4]\n",
    "                words_lem.append(cache[w])\n",
    "            else: # [5]\n",
    "                temp_cach = cache[w] = morph.parse(w)[0].normal_form\n",
    "                words_lem.append(temp_cach)\n",
    "    \n",
    "    words_lem_without_stopwords=[i for i in words_lem if not i in stopword_eng] # [6]\n",
    "    \n",
    "    return words_lem_without_stopwords"
   ]
  },
  {
   "cell_type": "markdown",
   "metadata": {},
   "source": [
    "Протестируем на 1 посте"
   ]
  },
  {
   "cell_type": "code",
   "execution_count": 80,
   "metadata": {},
   "outputs": [
    {
     "name": "stdout",
     "output_type": "stream",
     "text": [
      "['moments', 'sportscenter', 'top', 'ten', 'plays', 'pranks', 'lifechanging', 'experience', 'life', 'repeat', 'today', 'may', 'perc', 'experience', 'immerse', 'last', 'thing', 'friend', 'posted', 'facebook', 'committing', 'suicide', 'next', 'day', 'rest', 'peace', 'hello', 'sorry', 'hear', 'distress', 'natural', 'relationship', 'perfection', 'time', 'every', 'moment', 'existence', 'try', 'figure', 'hard', 'times', 'times', 'growth', 'welcome', 'stuff', 'game', 'set', 'match', 'prozac', 'wellbrutin', 'least', 'thirty', 'minutes', 'moving', 'legs', 'mean', 'moving', 'sitting', 'desk', 'chair', 'weed', 'moderation', 'maybe', 'try', 'edibles', 'healthier', 'alternative', 'basically', 'come', 'three', 'items', 'determined', 'type', 'whichever', 'types', 'want', 'would', 'likely', 'use', 'given', 'types', 'cognitive', 'functions', 'whatnot', 'left', 'things', 'moderation', 'sims', 'indeed', 'video', 'game', 'good', 'one', 'note', 'good', 'one', 'somewhat', 'subjective', 'completely', 'promoting', 'death', 'given', 'sim', 'dear', 'favorite', 'video', 'games', 'growing', 'current', 'favorite', 'video', 'games', 'cool', 'appears', 'late', 'sad', 'someone', 'everyone', 'wait', 'thought', 'confidence', 'good', 'thing', 'cherish', 'time', 'solitude', 'bc', 'revel', 'within', 'inner', 'world', 'whereas', 'time', 'workin', 'enjoy', 'time', 'worry', 'people', 'always', 'around', 'yo', 'ladies', 'complimentary', 'personalitywell', 'hey', 'main', 'social', 'outlet', 'xbox', 'live', 'conversations', 'even', 'verbally', 'fatigue', 'quickly', 'really', 'dig', 'part', 'banned', 'thread', 'requires', 'get', 'high', 'backyard', 'roast', 'eat', 'marshmellows', 'backyard', 'conversing', 'something', 'intellectual', 'followed', 'massages', 'kisses', 'banned', 'many', 'sentence', 'could', 'think', 'banned', 'watching', 'movies', 'corner', 'dunces', 'banned', 'health', 'class', 'clearly', 'taught', 'nothing', 'peer', 'pressure', 'banned', 'whole', 'host', 'reasons', 'two', 'baby', 'deer', 'left', 'right', 'munching', 'beetle', 'middle', 'using', 'blood', 'two', 'cavemen', 'diary', 'today', 'latest', 'happenings', 'designated', 'cave', 'diary', 'wall', 'see', 'pokemon', 'world', 'society', 'everyone', 'becomes', 'optimist', 'artists', 'artists', 'draw', 'idea', 'counts', 'forming', 'something', 'like', 'signature', 'welcome', 'robot', 'ranks', 'person', 'downed', 'selfesteem', 'cuz', 'avid', 'signature', 'artist', 'like', 'proud', 'banned', 'taking', 'room', 'bed', 'ya', 'gotta', 'learn', 'share', 'roaches', 'banned', 'much', 'thundering', 'grumbling', 'kind', 'storm', 'yep', 'ahh', 'old', 'high', 'school', 'music', 'heard', 'ages', 'failed', 'public', 'speaking', 'class', 'years', 'ago', 'sort', 'learned', 'could', 'better', 'position', 'big', 'part', 'failure', 'overloading', 'like', 'person', 'mentality', 'confirmed', 'way', 'move', 'denver', 'area', 'start', 'new', 'life']\n"
     ]
    }
   ],
   "source": [
    "text = clean_text(comments['posts'][0])\n",
    "text2 = lemmatization(text)\n",
    "print(text2)"
   ]
  },
  {
   "cell_type": "code",
   "execution_count": 31,
   "metadata": {},
   "outputs": [
    {
     "name": "stdout",
     "output_type": "stream",
     "text": [
      "Wall time: 22.1 s\n"
     ]
    }
   ],
   "source": [
    "%%time\n",
    "#Запускаем очистку текста\n",
    "comments['posts'] = comments['posts'].apply(lambda x: clean_text(x), 1)"
   ]
  },
  {
   "cell_type": "code",
   "execution_count": 32,
   "metadata": {
    "scrolled": true
   },
   "outputs": [
    {
     "name": "stdout",
     "output_type": "stream",
     "text": [
      "Wall time: 2min 22s\n"
     ]
    }
   ],
   "source": [
    "%%time\n",
    "#Запускаем лемматизацию текста\n",
    "comments['posts'] = comments['posts'].apply(lambda x: lemmatization(x), 1)"
   ]
  },
  {
   "cell_type": "markdown",
   "metadata": {},
   "source": [
    "Посмотрим результат"
   ]
  },
  {
   "cell_type": "code",
   "execution_count": 33,
   "metadata": {},
   "outputs": [
    {
     "data": {
      "text/plain": [
       "0       [moments, sportscenter, top, ten, plays, prank...\n",
       "1       [finding, lack, posts, alarming, sex, boring, ...\n",
       "2       [good, one, course, say, know, blessing, curse...\n",
       "3       [dear, enjoyed, conversation, day, esoteric, g...\n",
       "4       [fired, another, silly, misconception, approac...\n",
       "                              ...                        \n",
       "8670    [ixfp, always, think, cats, fi, doms, reason, ...\n",
       "8671    [soif, thread, already, exists, someplace, els...\n",
       "8672    [many, questions, things, would, take, purple,...\n",
       "8673    [conflicted, right, comes, wanting, children, ...\n",
       "8674    [long, since, personalitycafe, although, seem,...\n",
       "Name: posts, Length: 8675, dtype: object"
      ]
     },
     "execution_count": 33,
     "metadata": {},
     "output_type": "execute_result"
    }
   ],
   "source": [
    "comments['posts']"
   ]
  },
  {
   "cell_type": "markdown",
   "metadata": {},
   "source": [
    "Создадим текст на основе очищенных слов (делаем join)"
   ]
  },
  {
   "cell_type": "code",
   "execution_count": 34,
   "metadata": {},
   "outputs": [],
   "source": [
    "comments['posts'] = comments['posts'].apply(lambda x: ' '.join(x), 1)"
   ]
  },
  {
   "cell_type": "code",
   "execution_count": 35,
   "metadata": {},
   "outputs": [
    {
     "data": {
      "text/plain": [
       "0       moments sportscenter top ten plays pranks life...\n",
       "1       finding lack posts alarming sex boring positio...\n",
       "2       good one course say know blessing curse absolu...\n",
       "3       dear enjoyed conversation day esoteric gabbing...\n",
       "4       fired another silly misconception approaching ...\n",
       "                              ...                        \n",
       "8670    ixfp always think cats fi doms reason especial...\n",
       "8671    soif thread already exists someplace else heck...\n",
       "8672    many questions things would take purple pill p...\n",
       "8673    conflicted right comes wanting children honest...\n",
       "8674    long since personalitycafe although seem chang...\n",
       "Name: posts, Length: 8675, dtype: object"
      ]
     },
     "execution_count": 35,
     "metadata": {},
     "output_type": "execute_result"
    }
   ],
   "source": [
    "comments['posts']"
   ]
  },
  {
   "cell_type": "code",
   "execution_count": 36,
   "metadata": {
    "scrolled": false
   },
   "outputs": [
    {
     "data": {
      "text/plain": [
       "INFP    1832\n",
       "INFJ    1470\n",
       "INTP    1304\n",
       "INTJ    1091\n",
       "ENTP     685\n",
       "ENFP     675\n",
       "ISTP     337\n",
       "ISFP     271\n",
       "ENTJ     231\n",
       "ISTJ     205\n",
       "ENFJ     190\n",
       "ISFJ     166\n",
       "ESTP      89\n",
       "ESFP      48\n",
       "ESFJ      42\n",
       "ESTJ      39\n",
       "Name: type, dtype: int64"
      ]
     },
     "execution_count": 36,
     "metadata": {},
     "output_type": "execute_result"
    }
   ],
   "source": [
    "comments['type'].value_counts() # данные, к сожалению, не сбалансированы"
   ]
  },
  {
   "cell_type": "code",
   "execution_count": 37,
   "metadata": {},
   "outputs": [],
   "source": [
    "#разделим данные на train/test\n",
    "X_train, X_test, y_train, y_test = train_test_split(comments, comments['type'], random_state=0)"
   ]
  },
  {
   "cell_type": "markdown",
   "metadata": {},
   "source": [
    "#### Многоклассовая классификация с LogisticRegression"
   ]
  },
  {
   "cell_type": "code",
   "execution_count": 38,
   "metadata": {},
   "outputs": [],
   "source": [
    "#соберем наш простой pipeline, но нам понадобится написать класс для выбора нужного поля\n",
    "class FeatureSelector(BaseEstimator, TransformerMixin):\n",
    "    def __init__(self, column):\n",
    "        self.column = column\n",
    "\n",
    "    def fit(self, X, y=None):\n",
    "        return self\n",
    "\n",
    "    def transform(self, X, y=None):\n",
    "        return X[self.column]\n",
    "\n",
    "pipeline = Pipeline([('title_selector', FeatureSelector(column='posts')), \n",
    "                     ('title_tfidf', TfidfVectorizer()), \n",
    "                     ('clf', LogisticRegression())])"
   ]
  },
  {
   "cell_type": "code",
   "execution_count": 39,
   "metadata": {
    "scrolled": true
   },
   "outputs": [
    {
     "name": "stderr",
     "output_type": "stream",
     "text": [
      "C:\\Users\\User\\anaconda3\\lib\\site-packages\\sklearn\\linear_model\\_logistic.py:762: ConvergenceWarning: lbfgs failed to converge (status=1):\n",
      "STOP: TOTAL NO. of ITERATIONS REACHED LIMIT.\n",
      "\n",
      "Increase the number of iterations (max_iter) or scale the data as shown in:\n",
      "    https://scikit-learn.org/stable/modules/preprocessing.html\n",
      "Please also refer to the documentation for alternative solver options:\n",
      "    https://scikit-learn.org/stable/modules/linear_model.html#logistic-regression\n",
      "  n_iter_i = _check_optimize_result(\n"
     ]
    },
    {
     "data": {
      "text/plain": [
       "Pipeline(steps=[('title_selector', FeatureSelector(column='posts')),\n",
       "                ('title_tfidf', TfidfVectorizer()),\n",
       "                ('clf', LogisticRegression())])"
      ]
     },
     "execution_count": 39,
     "metadata": {},
     "output_type": "execute_result"
    }
   ],
   "source": [
    "#обучим наш пайплайн\n",
    "pipeline.fit(X_train, y_train)"
   ]
  },
  {
   "cell_type": "code",
   "execution_count": 40,
   "metadata": {
    "scrolled": false
   },
   "outputs": [
    {
     "data": {
      "text/plain": [
       "array(['INFP', 'INFP', 'ENFP', 'INTP', 'ENFP', 'INFP', 'INFP', 'INFJ',\n",
       "       'INTJ', 'INFJ'], dtype=object)"
      ]
     },
     "execution_count": 40,
     "metadata": {},
     "output_type": "execute_result"
    }
   ],
   "source": [
    "#наши прогнозы для тестовой выборки\n",
    "preds = pipeline.predict(X_test)\n",
    "preds[:10]"
   ]
  },
  {
   "cell_type": "code",
   "execution_count": 41,
   "metadata": {},
   "outputs": [],
   "source": [
    "from sklearn.metrics import f1_score, roc_auc_score, precision_score"
   ]
  },
  {
   "cell_type": "code",
   "execution_count": 42,
   "metadata": {},
   "outputs": [],
   "source": [
    "models_results = {\n",
    "    'approach': [],\n",
    "    'f1_score_micro': [],\n",
    "    'f1_score_macro': [],\n",
    "    'f1_score_weighted': [],\n",
    "    'precision_score_micro': [],\n",
    "    'precision_score_macro': [],\n",
    "    'precision_score_weighted': []\n",
    "}"
   ]
  },
  {
   "cell_type": "code",
   "execution_count": 43,
   "metadata": {
    "scrolled": true
   },
   "outputs": [
    {
     "name": "stdout",
     "output_type": "stream",
     "text": [
      "{'approach': ['Multi_LogReg'], 'f1_score_micro': [0.4693407100046104], 'f1_score_macro': [0.18337404414588507], 'f1_score_weighted': [0.411600059287563], 'precision_score_micro': [0.4693407100046104], 'precision_score_macro': [0.3241724895159938], 'precision_score_weighted': [0.46860787721084246]}\n"
     ]
    },
    {
     "name": "stderr",
     "output_type": "stream",
     "text": [
      "C:\\Users\\User\\anaconda3\\lib\\site-packages\\sklearn\\metrics\\_classification.py:1221: UndefinedMetricWarning: Precision is ill-defined and being set to 0.0 in labels with no predicted samples. Use `zero_division` parameter to control this behavior.\n",
      "  _warn_prf(average, modifier, msg_start, len(result))\n"
     ]
    }
   ],
   "source": [
    "models_results['approach'].append('Multi_LogReg')\n",
    "models_results['f1_score_micro'].append(f1_score(y_test, preds, average='micro'))\n",
    "models_results['f1_score_macro'].append(f1_score(y_test, preds, average='macro'))\n",
    "models_results['f1_score_weighted'].append(f1_score(y_test, preds, average='weighted'))\n",
    "models_results['precision_score_micro'].append(precision_score(y_test, preds, average='micro'))\n",
    "models_results['precision_score_macro'].append(precision_score(y_test, preds, average='macro'))\n",
    "models_results['precision_score_weighted'].append(precision_score(y_test, preds, average='weighted'))\n",
    "\n",
    "print(models_results)"
   ]
  },
  {
   "cell_type": "markdown",
   "metadata": {},
   "source": [
    "#### Многоклассовая классификация с с GradientBoostingClassifier"
   ]
  },
  {
   "cell_type": "code",
   "execution_count": 44,
   "metadata": {},
   "outputs": [],
   "source": [
    "from sklearn.ensemble import GradientBoostingClassifier"
   ]
  },
  {
   "cell_type": "code",
   "execution_count": 45,
   "metadata": {},
   "outputs": [],
   "source": [
    "#соберем наш простой pipeline, но уже с другим классификатором\n",
    "class FeatureSelector(BaseEstimator, TransformerMixin):\n",
    "    def __init__(self, column):\n",
    "        self.column = column\n",
    "\n",
    "    def fit(self, X, y=None):\n",
    "        return self\n",
    "\n",
    "    def transform(self, X, y=None):\n",
    "        return X[self.column]\n",
    "\n",
    "pipeline = Pipeline([('title_selector', FeatureSelector(column='posts')), \n",
    "                     ('title_tfidf', TfidfVectorizer()), \n",
    "                     ('clf', GradientBoostingClassifier())])"
   ]
  },
  {
   "cell_type": "code",
   "execution_count": 46,
   "metadata": {
    "scrolled": true
   },
   "outputs": [
    {
     "data": {
      "text/plain": [
       "Pipeline(steps=[('title_selector', FeatureSelector(column='posts')),\n",
       "                ('title_tfidf', TfidfVectorizer()),\n",
       "                ('clf', GradientBoostingClassifier())])"
      ]
     },
     "execution_count": 46,
     "metadata": {},
     "output_type": "execute_result"
    }
   ],
   "source": [
    "#обучим наш пайплайн\n",
    "pipeline.fit(X_train, y_train)"
   ]
  },
  {
   "cell_type": "code",
   "execution_count": 47,
   "metadata": {
    "scrolled": false
   },
   "outputs": [
    {
     "data": {
      "text/plain": [
       "array(['INTP', 'INFJ', 'ENFP', 'INTP', 'ENFP', 'INFP', 'INFP', 'ISFJ',\n",
       "       'INTJ', 'INFJ'], dtype=object)"
      ]
     },
     "execution_count": 47,
     "metadata": {},
     "output_type": "execute_result"
    }
   ],
   "source": [
    "#наши прогнозы для тестовой выборки\n",
    "preds = pipeline.predict(X_test)\n",
    "preds[:10]"
   ]
  },
  {
   "cell_type": "code",
   "execution_count": 48,
   "metadata": {},
   "outputs": [
    {
     "name": "stdout",
     "output_type": "stream",
     "text": [
      "{'approach': ['Multi_LogReg', 'Multi_Grad_Boost'], 'f1_score_micro': [0.4693407100046104, 0.4698017519594283], 'f1_score_macro': [0.18337404414588507, 0.3160403370718312], 'f1_score_weighted': [0.411600059287563, 0.45972749476686353], 'precision_score_micro': [0.4693407100046104, 0.4698017519594283], 'precision_score_macro': [0.3241724895159938, 0.3509764738421239], 'precision_score_weighted': [0.46860787721084246, 0.4692340858698429]}\n"
     ]
    }
   ],
   "source": [
    "models_results['approach'].append('Multi_Grad_Boost')\n",
    "models_results['f1_score_micro'].append(f1_score(y_test, preds, average='micro'))\n",
    "models_results['f1_score_macro'].append(f1_score(y_test, preds, average='macro'))\n",
    "models_results['f1_score_weighted'].append(f1_score(y_test, preds, average='weighted'))\n",
    "models_results['precision_score_micro'].append(precision_score(y_test, preds, average='micro'))\n",
    "models_results['precision_score_macro'].append(precision_score(y_test, preds, average='macro'))\n",
    "models_results['precision_score_weighted'].append(precision_score(y_test, preds, average='weighted'))\n",
    "\n",
    "print(models_results)"
   ]
  },
  {
   "cell_type": "markdown",
   "metadata": {},
   "source": [
    "У GradientBoostingClassifier получились лучшие показатели"
   ]
  },
  {
   "cell_type": "markdown",
   "metadata": {},
   "source": [
    "#### Многоклассовая классификация с RandomForestClassifier"
   ]
  },
  {
   "cell_type": "code",
   "execution_count": 49,
   "metadata": {},
   "outputs": [],
   "source": [
    "from sklearn.ensemble import RandomForestClassifier"
   ]
  },
  {
   "cell_type": "code",
   "execution_count": 50,
   "metadata": {},
   "outputs": [],
   "source": [
    "#теперь соберем pipeline с RandomForestClassifier\n",
    "class FeatureSelector(BaseEstimator, TransformerMixin):\n",
    "    def __init__(self, column):\n",
    "        self.column = column\n",
    "\n",
    "    def fit(self, X, y=None):\n",
    "        return self\n",
    "\n",
    "    def transform(self, X, y=None):\n",
    "        return X[self.column]\n",
    "\n",
    "pipeline = Pipeline([('title_selector', FeatureSelector(column='posts')), \n",
    "                     ('title_tfidf', TfidfVectorizer()), \n",
    "                     ('clf', RandomForestClassifier(n_estimators=1000))])"
   ]
  },
  {
   "cell_type": "code",
   "execution_count": 51,
   "metadata": {},
   "outputs": [],
   "source": [
    "#обучим наш пайплайн и запишем прогнозы\n",
    "pipeline.fit(X_train, y_train)\n",
    "preds = pipeline.predict(X_test)"
   ]
  },
  {
   "cell_type": "code",
   "execution_count": 52,
   "metadata": {},
   "outputs": [
    {
     "name": "stdout",
     "output_type": "stream",
     "text": [
      "{'approach': ['Multi_LogReg', 'Multi_Grad_Boost', 'Multi_RandFor'], 'f1_score_micro': [0.4693407100046104, 0.4698017519594283, 0.3148916551406178], 'f1_score_macro': [0.18337404414588507, 0.3160403370718312, 0.084876394034293], 'f1_score_weighted': [0.411600059287563, 0.45972749476686353, 0.2316654944277123], 'precision_score_micro': [0.4693407100046104, 0.4698017519594283, 0.3148916551406178], 'precision_score_macro': [0.3241724895159938, 0.3509764738421239, 0.14820878482382907], 'precision_score_weighted': [0.46860787721084246, 0.4692340858698429, 0.33623489952208785]}\n"
     ]
    },
    {
     "name": "stderr",
     "output_type": "stream",
     "text": [
      "C:\\Users\\User\\anaconda3\\lib\\site-packages\\sklearn\\metrics\\_classification.py:1221: UndefinedMetricWarning: Precision is ill-defined and being set to 0.0 in labels with no predicted samples. Use `zero_division` parameter to control this behavior.\n",
      "  _warn_prf(average, modifier, msg_start, len(result))\n"
     ]
    }
   ],
   "source": [
    "models_results['approach'].append('Multi_RandFor')\n",
    "models_results['f1_score_micro'].append(f1_score(y_test, preds, average='micro'))\n",
    "models_results['f1_score_macro'].append(f1_score(y_test, preds, average='macro'))\n",
    "models_results['f1_score_weighted'].append(f1_score(y_test, preds, average='weighted'))\n",
    "models_results['precision_score_micro'].append(precision_score(y_test, preds, average='micro'))\n",
    "models_results['precision_score_macro'].append(precision_score(y_test, preds, average='macro'))\n",
    "models_results['precision_score_weighted'].append(precision_score(y_test, preds, average='weighted'))\n",
    "\n",
    "print(models_results)"
   ]
  },
  {
   "cell_type": "markdown",
   "metadata": {},
   "source": [
    "### Попробуем пойти другим путем. 16 бинарных подзадач с LogisticRegression\n",
    "\n",
    "Вместо решения задачи многоклассовой классификации попробуем разделить на 16 бинарных задач и выберем тот тип по итогу, вероятность которого больше всех."
   ]
  },
  {
   "cell_type": "code",
   "execution_count": 53,
   "metadata": {},
   "outputs": [
    {
     "data": {
      "text/html": [
       "<div>\n",
       "<style scoped>\n",
       "    .dataframe tbody tr th:only-of-type {\n",
       "        vertical-align: middle;\n",
       "    }\n",
       "\n",
       "    .dataframe tbody tr th {\n",
       "        vertical-align: top;\n",
       "    }\n",
       "\n",
       "    .dataframe thead th {\n",
       "        text-align: right;\n",
       "    }\n",
       "</style>\n",
       "<table border=\"1\" class=\"dataframe\">\n",
       "  <thead>\n",
       "    <tr style=\"text-align: right;\">\n",
       "      <th></th>\n",
       "      <th>ENFJ</th>\n",
       "      <th>ENFP</th>\n",
       "      <th>ENTJ</th>\n",
       "      <th>ENTP</th>\n",
       "      <th>ESFJ</th>\n",
       "      <th>ESFP</th>\n",
       "      <th>ESTJ</th>\n",
       "      <th>ESTP</th>\n",
       "      <th>INFJ</th>\n",
       "      <th>INFP</th>\n",
       "      <th>INTJ</th>\n",
       "      <th>INTP</th>\n",
       "      <th>ISFJ</th>\n",
       "      <th>ISFP</th>\n",
       "      <th>ISTJ</th>\n",
       "      <th>ISTP</th>\n",
       "    </tr>\n",
       "  </thead>\n",
       "  <tbody>\n",
       "    <tr>\n",
       "      <th>0</th>\n",
       "      <td>0</td>\n",
       "      <td>0</td>\n",
       "      <td>0</td>\n",
       "      <td>0</td>\n",
       "      <td>0</td>\n",
       "      <td>0</td>\n",
       "      <td>0</td>\n",
       "      <td>0</td>\n",
       "      <td>1</td>\n",
       "      <td>0</td>\n",
       "      <td>0</td>\n",
       "      <td>0</td>\n",
       "      <td>0</td>\n",
       "      <td>0</td>\n",
       "      <td>0</td>\n",
       "      <td>0</td>\n",
       "    </tr>\n",
       "    <tr>\n",
       "      <th>1</th>\n",
       "      <td>0</td>\n",
       "      <td>0</td>\n",
       "      <td>0</td>\n",
       "      <td>1</td>\n",
       "      <td>0</td>\n",
       "      <td>0</td>\n",
       "      <td>0</td>\n",
       "      <td>0</td>\n",
       "      <td>0</td>\n",
       "      <td>0</td>\n",
       "      <td>0</td>\n",
       "      <td>0</td>\n",
       "      <td>0</td>\n",
       "      <td>0</td>\n",
       "      <td>0</td>\n",
       "      <td>0</td>\n",
       "    </tr>\n",
       "    <tr>\n",
       "      <th>2</th>\n",
       "      <td>0</td>\n",
       "      <td>0</td>\n",
       "      <td>0</td>\n",
       "      <td>0</td>\n",
       "      <td>0</td>\n",
       "      <td>0</td>\n",
       "      <td>0</td>\n",
       "      <td>0</td>\n",
       "      <td>0</td>\n",
       "      <td>0</td>\n",
       "      <td>0</td>\n",
       "      <td>1</td>\n",
       "      <td>0</td>\n",
       "      <td>0</td>\n",
       "      <td>0</td>\n",
       "      <td>0</td>\n",
       "    </tr>\n",
       "    <tr>\n",
       "      <th>3</th>\n",
       "      <td>0</td>\n",
       "      <td>0</td>\n",
       "      <td>0</td>\n",
       "      <td>0</td>\n",
       "      <td>0</td>\n",
       "      <td>0</td>\n",
       "      <td>0</td>\n",
       "      <td>0</td>\n",
       "      <td>0</td>\n",
       "      <td>0</td>\n",
       "      <td>1</td>\n",
       "      <td>0</td>\n",
       "      <td>0</td>\n",
       "      <td>0</td>\n",
       "      <td>0</td>\n",
       "      <td>0</td>\n",
       "    </tr>\n",
       "    <tr>\n",
       "      <th>4</th>\n",
       "      <td>0</td>\n",
       "      <td>0</td>\n",
       "      <td>1</td>\n",
       "      <td>0</td>\n",
       "      <td>0</td>\n",
       "      <td>0</td>\n",
       "      <td>0</td>\n",
       "      <td>0</td>\n",
       "      <td>0</td>\n",
       "      <td>0</td>\n",
       "      <td>0</td>\n",
       "      <td>0</td>\n",
       "      <td>0</td>\n",
       "      <td>0</td>\n",
       "      <td>0</td>\n",
       "      <td>0</td>\n",
       "    </tr>\n",
       "  </tbody>\n",
       "</table>\n",
       "</div>"
      ],
      "text/plain": [
       "   ENFJ  ENFP  ENTJ  ENTP  ESFJ  ESFP  ESTJ  ESTP  INFJ  INFP  INTJ  INTP  \\\n",
       "0     0     0     0     0     0     0     0     0     1     0     0     0   \n",
       "1     0     0     0     1     0     0     0     0     0     0     0     0   \n",
       "2     0     0     0     0     0     0     0     0     0     0     0     1   \n",
       "3     0     0     0     0     0     0     0     0     0     0     1     0   \n",
       "4     0     0     1     0     0     0     0     0     0     0     0     0   \n",
       "\n",
       "   ISFJ  ISFP  ISTJ  ISTP  \n",
       "0     0     0     0     0  \n",
       "1     0     0     0     0  \n",
       "2     0     0     0     0  \n",
       "3     0     0     0     0  \n",
       "4     0     0     0     0  "
      ]
     },
     "execution_count": 53,
     "metadata": {},
     "output_type": "execute_result"
    }
   ],
   "source": [
    "types = pd.get_dummies(comments['type'])\n",
    "types.head()"
   ]
  },
  {
   "cell_type": "code",
   "execution_count": 54,
   "metadata": {},
   "outputs": [
    {
     "name": "stdout",
     "output_type": "stream",
     "text": [
      "['ENFJ', 'ENFP', 'ENTJ', 'ENTP', 'ESFJ', 'ESFP', 'ESTJ', 'ESTP', 'INFJ', 'INFP', 'INTJ', 'INTP', 'ISFJ', 'ISFP', 'ISTJ', 'ISTP']\n"
     ]
    }
   ],
   "source": [
    "list_types = list(types.columns)\n",
    "print(list_types)"
   ]
  },
  {
   "cell_type": "code",
   "execution_count": 55,
   "metadata": {
    "scrolled": true
   },
   "outputs": [
    {
     "data": {
      "text/html": [
       "<div>\n",
       "<style scoped>\n",
       "    .dataframe tbody tr th:only-of-type {\n",
       "        vertical-align: middle;\n",
       "    }\n",
       "\n",
       "    .dataframe tbody tr th {\n",
       "        vertical-align: top;\n",
       "    }\n",
       "\n",
       "    .dataframe thead th {\n",
       "        text-align: right;\n",
       "    }\n",
       "</style>\n",
       "<table border=\"1\" class=\"dataframe\">\n",
       "  <thead>\n",
       "    <tr style=\"text-align: right;\">\n",
       "      <th></th>\n",
       "      <th>posts</th>\n",
       "      <th>ENFJ</th>\n",
       "      <th>ENFP</th>\n",
       "      <th>ENTJ</th>\n",
       "      <th>ENTP</th>\n",
       "      <th>ESFJ</th>\n",
       "      <th>ESFP</th>\n",
       "      <th>ESTJ</th>\n",
       "      <th>ESTP</th>\n",
       "      <th>INFJ</th>\n",
       "      <th>INFP</th>\n",
       "      <th>INTJ</th>\n",
       "      <th>INTP</th>\n",
       "      <th>ISFJ</th>\n",
       "      <th>ISFP</th>\n",
       "      <th>ISTJ</th>\n",
       "      <th>ISTP</th>\n",
       "    </tr>\n",
       "  </thead>\n",
       "  <tbody>\n",
       "    <tr>\n",
       "      <th>0</th>\n",
       "      <td>moments sportscenter top ten plays pranks life...</td>\n",
       "      <td>0</td>\n",
       "      <td>0</td>\n",
       "      <td>0</td>\n",
       "      <td>0</td>\n",
       "      <td>0</td>\n",
       "      <td>0</td>\n",
       "      <td>0</td>\n",
       "      <td>0</td>\n",
       "      <td>1</td>\n",
       "      <td>0</td>\n",
       "      <td>0</td>\n",
       "      <td>0</td>\n",
       "      <td>0</td>\n",
       "      <td>0</td>\n",
       "      <td>0</td>\n",
       "      <td>0</td>\n",
       "    </tr>\n",
       "    <tr>\n",
       "      <th>1</th>\n",
       "      <td>finding lack posts alarming sex boring positio...</td>\n",
       "      <td>0</td>\n",
       "      <td>0</td>\n",
       "      <td>0</td>\n",
       "      <td>1</td>\n",
       "      <td>0</td>\n",
       "      <td>0</td>\n",
       "      <td>0</td>\n",
       "      <td>0</td>\n",
       "      <td>0</td>\n",
       "      <td>0</td>\n",
       "      <td>0</td>\n",
       "      <td>0</td>\n",
       "      <td>0</td>\n",
       "      <td>0</td>\n",
       "      <td>0</td>\n",
       "      <td>0</td>\n",
       "    </tr>\n",
       "    <tr>\n",
       "      <th>2</th>\n",
       "      <td>good one course say know blessing curse absolu...</td>\n",
       "      <td>0</td>\n",
       "      <td>0</td>\n",
       "      <td>0</td>\n",
       "      <td>0</td>\n",
       "      <td>0</td>\n",
       "      <td>0</td>\n",
       "      <td>0</td>\n",
       "      <td>0</td>\n",
       "      <td>0</td>\n",
       "      <td>0</td>\n",
       "      <td>0</td>\n",
       "      <td>1</td>\n",
       "      <td>0</td>\n",
       "      <td>0</td>\n",
       "      <td>0</td>\n",
       "      <td>0</td>\n",
       "    </tr>\n",
       "    <tr>\n",
       "      <th>3</th>\n",
       "      <td>dear enjoyed conversation day esoteric gabbing...</td>\n",
       "      <td>0</td>\n",
       "      <td>0</td>\n",
       "      <td>0</td>\n",
       "      <td>0</td>\n",
       "      <td>0</td>\n",
       "      <td>0</td>\n",
       "      <td>0</td>\n",
       "      <td>0</td>\n",
       "      <td>0</td>\n",
       "      <td>0</td>\n",
       "      <td>1</td>\n",
       "      <td>0</td>\n",
       "      <td>0</td>\n",
       "      <td>0</td>\n",
       "      <td>0</td>\n",
       "      <td>0</td>\n",
       "    </tr>\n",
       "    <tr>\n",
       "      <th>4</th>\n",
       "      <td>fired another silly misconception approaching ...</td>\n",
       "      <td>0</td>\n",
       "      <td>0</td>\n",
       "      <td>1</td>\n",
       "      <td>0</td>\n",
       "      <td>0</td>\n",
       "      <td>0</td>\n",
       "      <td>0</td>\n",
       "      <td>0</td>\n",
       "      <td>0</td>\n",
       "      <td>0</td>\n",
       "      <td>0</td>\n",
       "      <td>0</td>\n",
       "      <td>0</td>\n",
       "      <td>0</td>\n",
       "      <td>0</td>\n",
       "      <td>0</td>\n",
       "    </tr>\n",
       "  </tbody>\n",
       "</table>\n",
       "</div>"
      ],
      "text/plain": [
       "                                               posts  ENFJ  ENFP  ENTJ  ENTP  \\\n",
       "0  moments sportscenter top ten plays pranks life...     0     0     0     0   \n",
       "1  finding lack posts alarming sex boring positio...     0     0     0     1   \n",
       "2  good one course say know blessing curse absolu...     0     0     0     0   \n",
       "3  dear enjoyed conversation day esoteric gabbing...     0     0     0     0   \n",
       "4  fired another silly misconception approaching ...     0     0     1     0   \n",
       "\n",
       "   ESFJ  ESFP  ESTJ  ESTP  INFJ  INFP  INTJ  INTP  ISFJ  ISFP  ISTJ  ISTP  \n",
       "0     0     0     0     0     1     0     0     0     0     0     0     0  \n",
       "1     0     0     0     0     0     0     0     0     0     0     0     0  \n",
       "2     0     0     0     0     0     0     0     1     0     0     0     0  \n",
       "3     0     0     0     0     0     0     1     0     0     0     0     0  \n",
       "4     0     0     0     0     0     0     0     0     0     0     0     0  "
      ]
     },
     "execution_count": 55,
     "metadata": {},
     "output_type": "execute_result"
    }
   ],
   "source": [
    "comments_binary = pd.concat([comments['posts'], types], axis=1)\n",
    "comments_binary.head()"
   ]
  },
  {
   "cell_type": "code",
   "execution_count": 56,
   "metadata": {},
   "outputs": [],
   "source": [
    "X_train, X_test, y_train, y_test = train_test_split(comments_binary, comments_binary[list_types], random_state=0)"
   ]
  },
  {
   "cell_type": "code",
   "execution_count": 57,
   "metadata": {},
   "outputs": [],
   "source": [
    "# в цикле обучим pipeline с LogisticRegression, добавляя новую колонку в  df_prob с вероятностью отнесения данного пользователя к определенному типу\n",
    "class FeatureSelector(BaseEstimator, TransformerMixin):\n",
    "    def __init__(self, column):\n",
    "        self.column = column\n",
    "\n",
    "    def fit(self, X, y=None):\n",
    "        return self\n",
    "\n",
    "    def transform(self, X, y=None):\n",
    "        return X[self.column]\n",
    "\n",
    "df_prob = pd.DataFrame()\n",
    "\n",
    "for i in list_types:\n",
    "    \n",
    "    pipeline = Pipeline([('title_selector', FeatureSelector(column='posts')), \n",
    "                         ('title_tfidf', TfidfVectorizer()), \n",
    "                         ('clf', LogisticRegression())])\n",
    "    pipeline.fit(X_train, y_train[i])\n",
    "    df_prob[i] = pipeline.predict_proba(X_test)[:,1]"
   ]
  },
  {
   "cell_type": "markdown",
   "metadata": {},
   "source": [
    "y_test нам нужно вернуть в исходное состояние (до get_dummie) для сравнения с прогнозом. Для этого воспользуемся функцией decode."
   ]
  },
  {
   "cell_type": "code",
   "execution_count": 58,
   "metadata": {},
   "outputs": [],
   "source": [
    "def decode(row):\n",
    "    for c in y_test.columns:\n",
    "        if row[c] == 1:\n",
    "            return c"
   ]
  },
  {
   "cell_type": "code",
   "execution_count": 59,
   "metadata": {},
   "outputs": [
    {
     "data": {
      "text/plain": [
       "4587    ISFP\n",
       "2786    INFJ\n",
       "2813    ENFP\n",
       "3705    INTP\n",
       "5957    ISFP\n",
       "        ... \n",
       "7256    ISFP\n",
       "2645    ENTP\n",
       "4773    ISTP\n",
       "7242    INFP\n",
       "6523    INFJ\n",
       "Length: 2169, dtype: object"
      ]
     },
     "execution_count": 59,
     "metadata": {},
     "output_type": "execute_result"
    }
   ],
   "source": [
    "y_test_multi = y_test.apply(decode, axis=1)\n",
    "y_test_multi"
   ]
  },
  {
   "cell_type": "code",
   "execution_count": 60,
   "metadata": {
    "scrolled": true
   },
   "outputs": [
    {
     "data": {
      "text/html": [
       "<div>\n",
       "<style scoped>\n",
       "    .dataframe tbody tr th:only-of-type {\n",
       "        vertical-align: middle;\n",
       "    }\n",
       "\n",
       "    .dataframe tbody tr th {\n",
       "        vertical-align: top;\n",
       "    }\n",
       "\n",
       "    .dataframe thead th {\n",
       "        text-align: right;\n",
       "    }\n",
       "</style>\n",
       "<table border=\"1\" class=\"dataframe\">\n",
       "  <thead>\n",
       "    <tr style=\"text-align: right;\">\n",
       "      <th></th>\n",
       "      <th>ENFJ</th>\n",
       "      <th>ENFP</th>\n",
       "      <th>ENTJ</th>\n",
       "      <th>ENTP</th>\n",
       "      <th>ESFJ</th>\n",
       "      <th>ESFP</th>\n",
       "      <th>ESTJ</th>\n",
       "      <th>ESTP</th>\n",
       "      <th>INFJ</th>\n",
       "      <th>INFP</th>\n",
       "      <th>INTJ</th>\n",
       "      <th>INTP</th>\n",
       "      <th>ISFJ</th>\n",
       "      <th>ISFP</th>\n",
       "      <th>ISTJ</th>\n",
       "      <th>ISTP</th>\n",
       "    </tr>\n",
       "  </thead>\n",
       "  <tbody>\n",
       "    <tr>\n",
       "      <th>0</th>\n",
       "      <td>0.025947</td>\n",
       "      <td>0.091799</td>\n",
       "      <td>0.020118</td>\n",
       "      <td>0.036324</td>\n",
       "      <td>0.004075</td>\n",
       "      <td>0.006687</td>\n",
       "      <td>0.004117</td>\n",
       "      <td>0.008282</td>\n",
       "      <td>0.202597</td>\n",
       "      <td>0.288490</td>\n",
       "      <td>0.064519</td>\n",
       "      <td>0.090701</td>\n",
       "      <td>0.023790</td>\n",
       "      <td>0.028861</td>\n",
       "      <td>0.026699</td>\n",
       "      <td>0.028413</td>\n",
       "    </tr>\n",
       "    <tr>\n",
       "      <th>1</th>\n",
       "      <td>0.032001</td>\n",
       "      <td>0.121939</td>\n",
       "      <td>0.016113</td>\n",
       "      <td>0.040373</td>\n",
       "      <td>0.004232</td>\n",
       "      <td>0.004617</td>\n",
       "      <td>0.004070</td>\n",
       "      <td>0.007665</td>\n",
       "      <td>0.179996</td>\n",
       "      <td>0.295439</td>\n",
       "      <td>0.071861</td>\n",
       "      <td>0.071613</td>\n",
       "      <td>0.022333</td>\n",
       "      <td>0.029897</td>\n",
       "      <td>0.019405</td>\n",
       "      <td>0.021682</td>\n",
       "    </tr>\n",
       "    <tr>\n",
       "      <th>2</th>\n",
       "      <td>0.027614</td>\n",
       "      <td>0.226232</td>\n",
       "      <td>0.024436</td>\n",
       "      <td>0.031980</td>\n",
       "      <td>0.003790</td>\n",
       "      <td>0.005233</td>\n",
       "      <td>0.003825</td>\n",
       "      <td>0.011243</td>\n",
       "      <td>0.205206</td>\n",
       "      <td>0.203538</td>\n",
       "      <td>0.103852</td>\n",
       "      <td>0.022771</td>\n",
       "      <td>0.019201</td>\n",
       "      <td>0.029923</td>\n",
       "      <td>0.028727</td>\n",
       "      <td>0.038998</td>\n",
       "    </tr>\n",
       "    <tr>\n",
       "      <th>3</th>\n",
       "      <td>0.016235</td>\n",
       "      <td>0.029749</td>\n",
       "      <td>0.023017</td>\n",
       "      <td>0.062493</td>\n",
       "      <td>0.004084</td>\n",
       "      <td>0.004923</td>\n",
       "      <td>0.004498</td>\n",
       "      <td>0.008875</td>\n",
       "      <td>0.094269</td>\n",
       "      <td>0.078400</td>\n",
       "      <td>0.248879</td>\n",
       "      <td>0.374607</td>\n",
       "      <td>0.015797</td>\n",
       "      <td>0.017339</td>\n",
       "      <td>0.031989</td>\n",
       "      <td>0.045402</td>\n",
       "    </tr>\n",
       "    <tr>\n",
       "      <th>4</th>\n",
       "      <td>0.026481</td>\n",
       "      <td>0.180497</td>\n",
       "      <td>0.022176</td>\n",
       "      <td>0.072250</td>\n",
       "      <td>0.004276</td>\n",
       "      <td>0.006135</td>\n",
       "      <td>0.004372</td>\n",
       "      <td>0.011623</td>\n",
       "      <td>0.178760</td>\n",
       "      <td>0.184343</td>\n",
       "      <td>0.052230</td>\n",
       "      <td>0.071409</td>\n",
       "      <td>0.024485</td>\n",
       "      <td>0.039256</td>\n",
       "      <td>0.018921</td>\n",
       "      <td>0.037586</td>\n",
       "    </tr>\n",
       "  </tbody>\n",
       "</table>\n",
       "</div>"
      ],
      "text/plain": [
       "       ENFJ      ENFP      ENTJ      ENTP      ESFJ      ESFP      ESTJ  \\\n",
       "0  0.025947  0.091799  0.020118  0.036324  0.004075  0.006687  0.004117   \n",
       "1  0.032001  0.121939  0.016113  0.040373  0.004232  0.004617  0.004070   \n",
       "2  0.027614  0.226232  0.024436  0.031980  0.003790  0.005233  0.003825   \n",
       "3  0.016235  0.029749  0.023017  0.062493  0.004084  0.004923  0.004498   \n",
       "4  0.026481  0.180497  0.022176  0.072250  0.004276  0.006135  0.004372   \n",
       "\n",
       "       ESTP      INFJ      INFP      INTJ      INTP      ISFJ      ISFP  \\\n",
       "0  0.008282  0.202597  0.288490  0.064519  0.090701  0.023790  0.028861   \n",
       "1  0.007665  0.179996  0.295439  0.071861  0.071613  0.022333  0.029897   \n",
       "2  0.011243  0.205206  0.203538  0.103852  0.022771  0.019201  0.029923   \n",
       "3  0.008875  0.094269  0.078400  0.248879  0.374607  0.015797  0.017339   \n",
       "4  0.011623  0.178760  0.184343  0.052230  0.071409  0.024485  0.039256   \n",
       "\n",
       "       ISTJ      ISTP  \n",
       "0  0.026699  0.028413  \n",
       "1  0.019405  0.021682  \n",
       "2  0.028727  0.038998  \n",
       "3  0.031989  0.045402  \n",
       "4  0.018921  0.037586  "
      ]
     },
     "execution_count": 60,
     "metadata": {},
     "output_type": "execute_result"
    }
   ],
   "source": [
    "df_prob.head()"
   ]
  },
  {
   "cell_type": "markdown",
   "metadata": {},
   "source": [
    "Теперь нам нужно выделить название колонки с максимальной вероятностью"
   ]
  },
  {
   "cell_type": "code",
   "execution_count": 61,
   "metadata": {},
   "outputs": [
    {
     "data": {
      "text/plain": [
       "0       INFP\n",
       "1       INFP\n",
       "2       ENFP\n",
       "3       INTP\n",
       "4       INFP\n",
       "        ... \n",
       "2164    INFJ\n",
       "2165    INFP\n",
       "2166    INFP\n",
       "2167    INFP\n",
       "2168    INFJ\n",
       "Name: predict, Length: 2169, dtype: object"
      ]
     },
     "execution_count": 61,
     "metadata": {},
     "output_type": "execute_result"
    }
   ],
   "source": [
    "df_prob['predict'] = df_prob.columns[df_prob.values.argsort(1)[:, -1]]\n",
    "df_prob['predict']"
   ]
  },
  {
   "cell_type": "code",
   "execution_count": 62,
   "metadata": {
    "scrolled": true
   },
   "outputs": [
    {
     "name": "stdout",
     "output_type": "stream",
     "text": [
      "{'approach': ['Multi_LogReg', 'Multi_Grad_Boost', 'Multi_RandFor', 'Binary_LogReg'], 'f1_score_micro': [0.4693407100046104, 0.4698017519594283, 0.3148916551406178, 0.4601198709082526], 'f1_score_macro': [0.18337404414588507, 0.3160403370718312, 0.084876394034293, 0.1741265405364288], 'f1_score_weighted': [0.411600059287563, 0.45972749476686353, 0.2316654944277123, 0.39906927978331574], 'precision_score_micro': [0.4693407100046104, 0.4698017519594283, 0.3148916551406178, 0.4601198709082526], 'precision_score_macro': [0.3241724895159938, 0.3509764738421239, 0.14820878482382907, 0.32634445087824904], 'precision_score_weighted': [0.46860787721084246, 0.4692340858698429, 0.33623489952208785, 0.46937806070686355]}\n"
     ]
    },
    {
     "name": "stderr",
     "output_type": "stream",
     "text": [
      "C:\\Users\\User\\anaconda3\\lib\\site-packages\\sklearn\\metrics\\_classification.py:1221: UndefinedMetricWarning: Precision is ill-defined and being set to 0.0 in labels with no predicted samples. Use `zero_division` parameter to control this behavior.\n",
      "  _warn_prf(average, modifier, msg_start, len(result))\n"
     ]
    }
   ],
   "source": [
    "models_results['approach'].append('Binary_LogReg')\n",
    "models_results['f1_score_micro'].append(f1_score(y_test_multi, df_prob['predict'], average='micro'))\n",
    "models_results['f1_score_macro'].append(f1_score(y_test_multi, df_prob['predict'], average='macro'))\n",
    "models_results['f1_score_weighted'].append(f1_score(y_test_multi, df_prob['predict'], average='weighted'))\n",
    "models_results['precision_score_micro'].append(precision_score(y_test_multi, df_prob['predict'], average='micro'))\n",
    "models_results['precision_score_macro'].append(precision_score(y_test_multi, df_prob['predict'], average='macro'))\n",
    "models_results['precision_score_weighted'].append(precision_score(y_test_multi, df_prob['predict'], average='weighted'))\n",
    "\n",
    "print(models_results)"
   ]
  },
  {
   "cell_type": "markdown",
   "metadata": {},
   "source": [
    "#### Теперь попробуем с GradientBoostingClassifier"
   ]
  },
  {
   "cell_type": "code",
   "execution_count": 63,
   "metadata": {},
   "outputs": [],
   "source": [
    "X_train, X_test, y_train, y_test = train_test_split(comments_binary, comments_binary[list_types], random_state=0)"
   ]
  },
  {
   "cell_type": "code",
   "execution_count": 64,
   "metadata": {},
   "outputs": [],
   "source": [
    "#Теперь также в цикле обучаем GradientBoostingClassifier\n",
    "class FeatureSelector(BaseEstimator, TransformerMixin):\n",
    "    def __init__(self, column):\n",
    "        self.column = column\n",
    "\n",
    "    def fit(self, X, y=None):\n",
    "        return self\n",
    "\n",
    "    def transform(self, X, y=None):\n",
    "        return X[self.column]\n",
    "\n",
    "df_prob = pd.DataFrame()\n",
    "\n",
    "for i in list_types:\n",
    "    \n",
    "    pipeline = Pipeline([('title_selector', FeatureSelector(column='posts')), \n",
    "                         ('title_tfidf', TfidfVectorizer()), \n",
    "                         ('clf', GradientBoostingClassifier())])\n",
    "    pipeline.fit(X_train, y_train[i])\n",
    "    df_prob[i] = pipeline.predict_proba(X_test)[:,1]"
   ]
  },
  {
   "cell_type": "code",
   "execution_count": 65,
   "metadata": {},
   "outputs": [
    {
     "data": {
      "text/html": [
       "<div>\n",
       "<style scoped>\n",
       "    .dataframe tbody tr th:only-of-type {\n",
       "        vertical-align: middle;\n",
       "    }\n",
       "\n",
       "    .dataframe tbody tr th {\n",
       "        vertical-align: top;\n",
       "    }\n",
       "\n",
       "    .dataframe thead th {\n",
       "        text-align: right;\n",
       "    }\n",
       "</style>\n",
       "<table border=\"1\" class=\"dataframe\">\n",
       "  <thead>\n",
       "    <tr style=\"text-align: right;\">\n",
       "      <th></th>\n",
       "      <th>ENFJ</th>\n",
       "      <th>ENFP</th>\n",
       "      <th>ENTJ</th>\n",
       "      <th>ENTP</th>\n",
       "      <th>ESFJ</th>\n",
       "      <th>ESFP</th>\n",
       "      <th>ESTJ</th>\n",
       "      <th>ESTP</th>\n",
       "      <th>INFJ</th>\n",
       "      <th>INFP</th>\n",
       "      <th>INTJ</th>\n",
       "      <th>INTP</th>\n",
       "      <th>ISFJ</th>\n",
       "      <th>ISFP</th>\n",
       "      <th>ISTJ</th>\n",
       "      <th>ISTP</th>\n",
       "    </tr>\n",
       "  </thead>\n",
       "  <tbody>\n",
       "    <tr>\n",
       "      <th>0</th>\n",
       "      <td>0.003845</td>\n",
       "      <td>0.045749</td>\n",
       "      <td>0.007157</td>\n",
       "      <td>0.027675</td>\n",
       "      <td>2.366944e-07</td>\n",
       "      <td>0.000002</td>\n",
       "      <td>2.577319e-07</td>\n",
       "      <td>0.00022</td>\n",
       "      <td>0.091358</td>\n",
       "      <td>0.259910</td>\n",
       "      <td>0.059663</td>\n",
       "      <td>0.122658</td>\n",
       "      <td>0.002593</td>\n",
       "      <td>0.00956</td>\n",
       "      <td>0.005242</td>\n",
       "      <td>0.015550</td>\n",
       "    </tr>\n",
       "    <tr>\n",
       "      <th>1</th>\n",
       "      <td>0.003845</td>\n",
       "      <td>0.037099</td>\n",
       "      <td>0.007157</td>\n",
       "      <td>0.027675</td>\n",
       "      <td>2.366944e-07</td>\n",
       "      <td>0.000002</td>\n",
       "      <td>2.577319e-07</td>\n",
       "      <td>0.00022</td>\n",
       "      <td>0.425386</td>\n",
       "      <td>0.094398</td>\n",
       "      <td>0.046834</td>\n",
       "      <td>0.150761</td>\n",
       "      <td>0.002593</td>\n",
       "      <td>0.00956</td>\n",
       "      <td>0.005242</td>\n",
       "      <td>0.015550</td>\n",
       "    </tr>\n",
       "    <tr>\n",
       "      <th>2</th>\n",
       "      <td>0.003845</td>\n",
       "      <td>0.626033</td>\n",
       "      <td>0.007157</td>\n",
       "      <td>0.027675</td>\n",
       "      <td>2.366944e-07</td>\n",
       "      <td>0.000002</td>\n",
       "      <td>2.577319e-07</td>\n",
       "      <td>0.00022</td>\n",
       "      <td>0.115132</td>\n",
       "      <td>0.132187</td>\n",
       "      <td>0.392216</td>\n",
       "      <td>0.053542</td>\n",
       "      <td>0.002593</td>\n",
       "      <td>0.00956</td>\n",
       "      <td>0.005242</td>\n",
       "      <td>0.015550</td>\n",
       "    </tr>\n",
       "    <tr>\n",
       "      <th>3</th>\n",
       "      <td>0.003845</td>\n",
       "      <td>0.032514</td>\n",
       "      <td>0.007157</td>\n",
       "      <td>0.027675</td>\n",
       "      <td>2.366944e-07</td>\n",
       "      <td>0.000002</td>\n",
       "      <td>2.577319e-07</td>\n",
       "      <td>0.00022</td>\n",
       "      <td>0.140021</td>\n",
       "      <td>0.127268</td>\n",
       "      <td>0.231436</td>\n",
       "      <td>0.522072</td>\n",
       "      <td>0.002593</td>\n",
       "      <td>0.00956</td>\n",
       "      <td>0.005242</td>\n",
       "      <td>0.027873</td>\n",
       "    </tr>\n",
       "    <tr>\n",
       "      <th>4</th>\n",
       "      <td>0.003845</td>\n",
       "      <td>0.246577</td>\n",
       "      <td>0.007157</td>\n",
       "      <td>0.033502</td>\n",
       "      <td>2.366944e-07</td>\n",
       "      <td>0.000002</td>\n",
       "      <td>2.577319e-07</td>\n",
       "      <td>0.00022</td>\n",
       "      <td>0.081303</td>\n",
       "      <td>0.101115</td>\n",
       "      <td>0.045844</td>\n",
       "      <td>0.062103</td>\n",
       "      <td>0.002593</td>\n",
       "      <td>0.00956</td>\n",
       "      <td>0.005242</td>\n",
       "      <td>0.015550</td>\n",
       "    </tr>\n",
       "  </tbody>\n",
       "</table>\n",
       "</div>"
      ],
      "text/plain": [
       "       ENFJ      ENFP      ENTJ      ENTP          ESFJ      ESFP  \\\n",
       "0  0.003845  0.045749  0.007157  0.027675  2.366944e-07  0.000002   \n",
       "1  0.003845  0.037099  0.007157  0.027675  2.366944e-07  0.000002   \n",
       "2  0.003845  0.626033  0.007157  0.027675  2.366944e-07  0.000002   \n",
       "3  0.003845  0.032514  0.007157  0.027675  2.366944e-07  0.000002   \n",
       "4  0.003845  0.246577  0.007157  0.033502  2.366944e-07  0.000002   \n",
       "\n",
       "           ESTJ     ESTP      INFJ      INFP      INTJ      INTP      ISFJ  \\\n",
       "0  2.577319e-07  0.00022  0.091358  0.259910  0.059663  0.122658  0.002593   \n",
       "1  2.577319e-07  0.00022  0.425386  0.094398  0.046834  0.150761  0.002593   \n",
       "2  2.577319e-07  0.00022  0.115132  0.132187  0.392216  0.053542  0.002593   \n",
       "3  2.577319e-07  0.00022  0.140021  0.127268  0.231436  0.522072  0.002593   \n",
       "4  2.577319e-07  0.00022  0.081303  0.101115  0.045844  0.062103  0.002593   \n",
       "\n",
       "      ISFP      ISTJ      ISTP  \n",
       "0  0.00956  0.005242  0.015550  \n",
       "1  0.00956  0.005242  0.015550  \n",
       "2  0.00956  0.005242  0.015550  \n",
       "3  0.00956  0.005242  0.027873  \n",
       "4  0.00956  0.005242  0.015550  "
      ]
     },
     "execution_count": 65,
     "metadata": {},
     "output_type": "execute_result"
    }
   ],
   "source": [
    "y_test_multi = y_test.apply(decode, axis=1)\n",
    "df_prob.head()"
   ]
  },
  {
   "cell_type": "code",
   "execution_count": 66,
   "metadata": {},
   "outputs": [
    {
     "data": {
      "text/plain": [
       "0       INFP\n",
       "1       INFJ\n",
       "2       ENFP\n",
       "3       INTP\n",
       "4       ENFP\n",
       "        ... \n",
       "2164    ESTJ\n",
       "2165    ENTP\n",
       "2166    INFP\n",
       "2167    INFP\n",
       "2168    INFJ\n",
       "Name: predict, Length: 2169, dtype: object"
      ]
     },
     "execution_count": 66,
     "metadata": {},
     "output_type": "execute_result"
    }
   ],
   "source": [
    "df_prob['predict'] = df_prob.columns[df_prob.values.argsort(1)[:, -1]]\n",
    "df_prob['predict']"
   ]
  },
  {
   "cell_type": "code",
   "execution_count": 67,
   "metadata": {
    "scrolled": true
   },
   "outputs": [],
   "source": [
    "models_results['approach'].append('Binary_GradBoost')\n",
    "models_results['f1_score_micro'].append(f1_score(y_test_multi, df_prob['predict'], average='micro'))\n",
    "models_results['f1_score_macro'].append(f1_score(y_test_multi, df_prob['predict'], average='macro'))\n",
    "models_results['f1_score_weighted'].append(f1_score(y_test_multi, df_prob['predict'], average='weighted'))\n",
    "models_results['precision_score_micro'].append(precision_score(y_test_multi, df_prob['predict'], average='micro'))\n",
    "models_results['precision_score_macro'].append(precision_score(y_test_multi, df_prob['predict'], average='macro'))\n",
    "models_results['precision_score_weighted'].append(precision_score(y_test_multi, df_prob['predict'], average='weighted'))"
   ]
  },
  {
   "cell_type": "code",
   "execution_count": 68,
   "metadata": {},
   "outputs": [
    {
     "data": {
      "text/plain": [
       "{'approach': ['Multi_LogReg',\n",
       "  'Multi_Grad_Boost',\n",
       "  'Multi_RandFor',\n",
       "  'Binary_LogReg',\n",
       "  'Binary_GradBoost'],\n",
       " 'f1_score_micro': [0.4693407100046104,\n",
       "  0.4698017519594283,\n",
       "  0.3148916551406178,\n",
       "  0.4601198709082526,\n",
       "  0.4564315352697095],\n",
       " 'f1_score_macro': [0.18337404414588507,\n",
       "  0.3160403370718312,\n",
       "  0.084876394034293,\n",
       "  0.1741265405364288,\n",
       "  0.2968473525678659],\n",
       " 'f1_score_weighted': [0.411600059287563,\n",
       "  0.45972749476686353,\n",
       "  0.2316654944277123,\n",
       "  0.39906927978331574,\n",
       "  0.44772701567633233],\n",
       " 'precision_score_micro': [0.4693407100046104,\n",
       "  0.4698017519594283,\n",
       "  0.3148916551406178,\n",
       "  0.4601198709082526,\n",
       "  0.45643153526970953],\n",
       " 'precision_score_macro': [0.3241724895159938,\n",
       "  0.3509764738421239,\n",
       "  0.14820878482382907,\n",
       "  0.32634445087824904,\n",
       "  0.32866995552654843],\n",
       " 'precision_score_weighted': [0.46860787721084246,\n",
       "  0.4692340858698429,\n",
       "  0.33623489952208785,\n",
       "  0.46937806070686355,\n",
       "  0.4589796526188738]}"
      ]
     },
     "execution_count": 68,
     "metadata": {},
     "output_type": "execute_result"
    }
   ],
   "source": [
    "models_results"
   ]
  },
  {
   "cell_type": "code",
   "execution_count": 69,
   "metadata": {},
   "outputs": [
    {
     "data": {
      "text/html": [
       "<div>\n",
       "<style scoped>\n",
       "    .dataframe tbody tr th:only-of-type {\n",
       "        vertical-align: middle;\n",
       "    }\n",
       "\n",
       "    .dataframe tbody tr th {\n",
       "        vertical-align: top;\n",
       "    }\n",
       "\n",
       "    .dataframe thead th {\n",
       "        text-align: right;\n",
       "    }\n",
       "</style>\n",
       "<table border=\"1\" class=\"dataframe\">\n",
       "  <thead>\n",
       "    <tr style=\"text-align: right;\">\n",
       "      <th></th>\n",
       "      <th>approach</th>\n",
       "      <th>f1_score_micro</th>\n",
       "      <th>f1_score_macro</th>\n",
       "      <th>f1_score_weighted</th>\n",
       "      <th>precision_score_micro</th>\n",
       "      <th>precision_score_macro</th>\n",
       "      <th>precision_score_weighted</th>\n",
       "    </tr>\n",
       "  </thead>\n",
       "  <tbody>\n",
       "    <tr>\n",
       "      <th>0</th>\n",
       "      <td>Multi_LogReg</td>\n",
       "      <td>0.469341</td>\n",
       "      <td>0.183374</td>\n",
       "      <td>0.411600</td>\n",
       "      <td>0.469341</td>\n",
       "      <td>0.324172</td>\n",
       "      <td>0.468608</td>\n",
       "    </tr>\n",
       "    <tr>\n",
       "      <th>1</th>\n",
       "      <td>Multi_Grad_Boost</td>\n",
       "      <td>0.469802</td>\n",
       "      <td>0.316040</td>\n",
       "      <td>0.459727</td>\n",
       "      <td>0.469802</td>\n",
       "      <td>0.350976</td>\n",
       "      <td>0.469234</td>\n",
       "    </tr>\n",
       "    <tr>\n",
       "      <th>2</th>\n",
       "      <td>Multi_RandFor</td>\n",
       "      <td>0.314892</td>\n",
       "      <td>0.084876</td>\n",
       "      <td>0.231665</td>\n",
       "      <td>0.314892</td>\n",
       "      <td>0.148209</td>\n",
       "      <td>0.336235</td>\n",
       "    </tr>\n",
       "    <tr>\n",
       "      <th>3</th>\n",
       "      <td>Binary_LogReg</td>\n",
       "      <td>0.460120</td>\n",
       "      <td>0.174127</td>\n",
       "      <td>0.399069</td>\n",
       "      <td>0.460120</td>\n",
       "      <td>0.326344</td>\n",
       "      <td>0.469378</td>\n",
       "    </tr>\n",
       "    <tr>\n",
       "      <th>4</th>\n",
       "      <td>Binary_GradBoost</td>\n",
       "      <td>0.456432</td>\n",
       "      <td>0.296847</td>\n",
       "      <td>0.447727</td>\n",
       "      <td>0.456432</td>\n",
       "      <td>0.328670</td>\n",
       "      <td>0.458980</td>\n",
       "    </tr>\n",
       "  </tbody>\n",
       "</table>\n",
       "</div>"
      ],
      "text/plain": [
       "           approach  f1_score_micro  f1_score_macro  f1_score_weighted  \\\n",
       "0      Multi_LogReg        0.469341        0.183374           0.411600   \n",
       "1  Multi_Grad_Boost        0.469802        0.316040           0.459727   \n",
       "2     Multi_RandFor        0.314892        0.084876           0.231665   \n",
       "3     Binary_LogReg        0.460120        0.174127           0.399069   \n",
       "4  Binary_GradBoost        0.456432        0.296847           0.447727   \n",
       "\n",
       "   precision_score_micro  precision_score_macro  precision_score_weighted  \n",
       "0               0.469341               0.324172                  0.468608  \n",
       "1               0.469802               0.350976                  0.469234  \n",
       "2               0.314892               0.148209                  0.336235  \n",
       "3               0.460120               0.326344                  0.469378  \n",
       "4               0.456432               0.328670                  0.458980  "
      ]
     },
     "execution_count": 69,
     "metadata": {},
     "output_type": "execute_result"
    }
   ],
   "source": [
    "pd.DataFrame(data=models_results)"
   ]
  },
  {
   "cell_type": "markdown",
   "metadata": {},
   "source": [
    "В итоге для модели выбрал Multi_Grad_Boost."
   ]
  }
 ],
 "metadata": {
  "kernelspec": {
   "display_name": "Python 3",
   "language": "python",
   "name": "python3"
  },
  "language_info": {
   "codemirror_mode": {
    "name": "ipython",
    "version": 3
   },
   "file_extension": ".py",
   "mimetype": "text/x-python",
   "name": "python",
   "nbconvert_exporter": "python",
   "pygments_lexer": "ipython3",
   "version": "3.8.5"
  }
 },
 "nbformat": 4,
 "nbformat_minor": 2
}
